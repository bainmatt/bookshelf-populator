{
 "cells": [
  {
   "cell_type": "code",
   "execution_count": 2,
   "metadata": {
    "tags": []
   },
   "outputs": [
    {
     "name": "stdout",
     "output_type": "stream",
     "text": [
      "     Unnamed: 0 Unnamed: 1 Unnamed: 2 Unnamed: 3    0-5 Unnamed: 5 Unnamed: 6  \\\n",
      "0           NaN        NaN        NaN        NaN    5-7        NaN        NaN   \n",
      "1           NaN        NaN        NaN        NaN  7-7.5        NaN        NaN   \n",
      "2           NaN        NaN        NaN        NaN  7.5-8        NaN        NaN   \n",
      "3           NaN        NaN        NaN        NaN  8.5-9        NaN        NaN   \n",
      "4           NaN        NaN         IP          0  9-9.5        NaN        NaN   \n",
      "...         ...        ...        ...        ...    ...        ...        ...   \n",
      "1518        NaN        NaN        NaN        NaN    NaN        NaN        NaN   \n",
      "1519        NaN        NaN        NaN        NaN    NaN        NaN        NaN   \n",
      "1520        NaN        NaN        NaN        NaN    NaN        NaN        NaN   \n",
      "1521        NaN        NaN        NaN        NaN    NaN        NaN        NaN   \n",
      "1522        NaN        NaN        NaN        NaN    NaN        NaN        NaN   \n",
      "\n",
      "     Unnamed: 7 Unnamed: 8    1 Unnamed: 10  \n",
      "0           NaN        NaN    0         NaN  \n",
      "1           NaN        NaN    1         NaN  \n",
      "2           NaN        NaN    0         NaN  \n",
      "3           NaN        NaN    0         NaN  \n",
      "4           NaN        NaN    3         NaN  \n",
      "...         ...        ...  ...         ...  \n",
      "1518        NaN        NaN  NaN           x  \n",
      "1519        NaN        NaN  NaN           x  \n",
      "1520        NaN        NaN  NaN           x  \n",
      "1521        NaN        NaN  NaN           x  \n",
      "1522        NaN        NaN  NaN           x  \n",
      "\n",
      "[1523 rows x 11 columns]\n"
     ]
    },
    {
     "ename": "KeyError",
     "evalue": "'film'",
     "output_type": "error",
     "traceback": [
      "\u001b[0;31m---------------------------------------------------------------------------\u001b[0m",
      "\u001b[0;31mKeyError\u001b[0m                                  Traceback (most recent call last)",
      "File \u001b[0;32m~/mambaforge/lib/python3.9/site-packages/pandas/core/indexes/base.py:3803\u001b[0m, in \u001b[0;36mIndex.get_loc\u001b[0;34m(self, key, method, tolerance)\u001b[0m\n\u001b[1;32m   3802\u001b[0m \u001b[39mtry\u001b[39;00m:\n\u001b[0;32m-> 3803\u001b[0m     \u001b[39mreturn\u001b[39;00m \u001b[39mself\u001b[39;49m\u001b[39m.\u001b[39;49m_engine\u001b[39m.\u001b[39;49mget_loc(casted_key)\n\u001b[1;32m   3804\u001b[0m \u001b[39mexcept\u001b[39;00m \u001b[39mKeyError\u001b[39;00m \u001b[39mas\u001b[39;00m err:\n",
      "File \u001b[0;32m~/mambaforge/lib/python3.9/site-packages/pandas/_libs/index.pyx:138\u001b[0m, in \u001b[0;36mpandas._libs.index.IndexEngine.get_loc\u001b[0;34m()\u001b[0m\n",
      "File \u001b[0;32m~/mambaforge/lib/python3.9/site-packages/pandas/_libs/index.pyx:165\u001b[0m, in \u001b[0;36mpandas._libs.index.IndexEngine.get_loc\u001b[0;34m()\u001b[0m\n",
      "File \u001b[0;32mpandas/_libs/hashtable_class_helper.pxi:5745\u001b[0m, in \u001b[0;36mpandas._libs.hashtable.PyObjectHashTable.get_item\u001b[0;34m()\u001b[0m\n",
      "File \u001b[0;32mpandas/_libs/hashtable_class_helper.pxi:5753\u001b[0m, in \u001b[0;36mpandas._libs.hashtable.PyObjectHashTable.get_item\u001b[0;34m()\u001b[0m\n",
      "\u001b[0;31mKeyError\u001b[0m: 'film'",
      "\nThe above exception was the direct cause of the following exception:\n",
      "\u001b[0;31mKeyError\u001b[0m                                  Traceback (most recent call last)",
      "Cell \u001b[0;32mIn[2], line 13\u001b[0m\n\u001b[1;32m     10\u001b[0m \u001b[39mprint\u001b[39m(df)\n\u001b[1;32m     12\u001b[0m \u001b[39mfor\u001b[39;00m i \u001b[39min\u001b[39;00m \u001b[39mrange\u001b[39m(\u001b[39mlen\u001b[39m(df)):\n\u001b[0;32m---> 13\u001b[0m     film \u001b[39m=\u001b[39m df[\u001b[39m\"\u001b[39;49m\u001b[39mfilm\u001b[39;49m\u001b[39m\"\u001b[39;49m]\n\u001b[1;32m     15\u001b[0m wk\u001b[39m.\u001b[39mWikipediaPage(\u001b[39m\"\u001b[39m\u001b[39mWhen Marnie Was There\u001b[39m\u001b[39m\"\u001b[39m)\n",
      "File \u001b[0;32m~/mambaforge/lib/python3.9/site-packages/pandas/core/frame.py:3805\u001b[0m, in \u001b[0;36mDataFrame.__getitem__\u001b[0;34m(self, key)\u001b[0m\n\u001b[1;32m   3803\u001b[0m \u001b[39mif\u001b[39;00m \u001b[39mself\u001b[39m\u001b[39m.\u001b[39mcolumns\u001b[39m.\u001b[39mnlevels \u001b[39m>\u001b[39m \u001b[39m1\u001b[39m:\n\u001b[1;32m   3804\u001b[0m     \u001b[39mreturn\u001b[39;00m \u001b[39mself\u001b[39m\u001b[39m.\u001b[39m_getitem_multilevel(key)\n\u001b[0;32m-> 3805\u001b[0m indexer \u001b[39m=\u001b[39m \u001b[39mself\u001b[39;49m\u001b[39m.\u001b[39;49mcolumns\u001b[39m.\u001b[39;49mget_loc(key)\n\u001b[1;32m   3806\u001b[0m \u001b[39mif\u001b[39;00m is_integer(indexer):\n\u001b[1;32m   3807\u001b[0m     indexer \u001b[39m=\u001b[39m [indexer]\n",
      "File \u001b[0;32m~/mambaforge/lib/python3.9/site-packages/pandas/core/indexes/base.py:3805\u001b[0m, in \u001b[0;36mIndex.get_loc\u001b[0;34m(self, key, method, tolerance)\u001b[0m\n\u001b[1;32m   3803\u001b[0m     \u001b[39mreturn\u001b[39;00m \u001b[39mself\u001b[39m\u001b[39m.\u001b[39m_engine\u001b[39m.\u001b[39mget_loc(casted_key)\n\u001b[1;32m   3804\u001b[0m \u001b[39mexcept\u001b[39;00m \u001b[39mKeyError\u001b[39;00m \u001b[39mas\u001b[39;00m err:\n\u001b[0;32m-> 3805\u001b[0m     \u001b[39mraise\u001b[39;00m \u001b[39mKeyError\u001b[39;00m(key) \u001b[39mfrom\u001b[39;00m \u001b[39merr\u001b[39;00m\n\u001b[1;32m   3806\u001b[0m \u001b[39mexcept\u001b[39;00m \u001b[39mTypeError\u001b[39;00m:\n\u001b[1;32m   3807\u001b[0m     \u001b[39m# If we have a listlike key, _check_indexing_error will raise\u001b[39;00m\n\u001b[1;32m   3808\u001b[0m     \u001b[39m#  InvalidIndexError. Otherwise we fall through and re-raise\u001b[39;00m\n\u001b[1;32m   3809\u001b[0m     \u001b[39m#  the TypeError.\u001b[39;00m\n\u001b[1;32m   3810\u001b[0m     \u001b[39mself\u001b[39m\u001b[39m.\u001b[39m_check_indexing_error(key)\n",
      "\u001b[0;31mKeyError\u001b[0m: 'film'"
     ]
    }
   ],
   "source": [
    "#pip3 install pandas\n",
    "import numpy as np\n",
    "import matplotlib.pyplot as plt\n",
    "\n",
    "import wikipedia as wk\n",
    "import pandas as pd\n",
    "\n",
    "bkshelf = '/Users/matthewbain/Library/CloudStorage/OneDrive-McMasterUniversity/master notebook/trackers/bookshelf.xlsx'\n",
    "df = pd.read_excel(bkshelf)\n",
    "print(df)\n",
    "\n",
    "for i in range(len(df)):\n",
    "    film = df[\"film\"]\n",
    "\n",
    "wk.WikipediaPage(\"When Marnie Was There\")"
   ]
  },
  {
   "cell_type": "code",
   "execution_count": null,
   "metadata": {},
   "outputs": [],
   "source": []
  }
 ],
 "metadata": {
  "kernelspec": {
   "display_name": "Python 3.9.13 ('base')",
   "language": "python",
   "name": "python3"
  },
  "language_info": {
   "codemirror_mode": {
    "name": "ipython",
    "version": 3
   },
   "file_extension": ".py",
   "mimetype": "text/x-python",
   "name": "python",
   "nbconvert_exporter": "python",
   "pygments_lexer": "ipython3",
   "version": "3.9.15"
  },
  "orig_nbformat": 4,
  "vscode": {
   "interpreter": {
    "hash": "e9ee66f97737c23c2256428f6ea249927305c323811574712c5afa65b9868618"
   }
  }
 },
 "nbformat": 4,
 "nbformat_minor": 2
}
