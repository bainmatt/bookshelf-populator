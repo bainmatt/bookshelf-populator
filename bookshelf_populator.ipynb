{
 "cells": [
  {
   "cell_type": "code",
   "execution_count": 2,
   "metadata": {
    "tags": []
   },
   "outputs": [
    {
     "name": "stdout",
     "output_type": "stream",
     "text": [
      "     Unnamed: 0 Unnamed: 1 Unnamed: 2 Unnamed: 3    0-5 Unnamed: 5 Unnamed: 6  \\\n",
      "0           NaN        NaN        NaN        NaN    5-7        NaN        NaN   \n",
      "1           NaN        NaN        NaN        NaN  7-7.5        NaN        NaN   \n",
      "2           NaN        NaN        NaN        NaN  7.5-8        NaN        NaN   \n",
      "3           NaN        NaN        NaN        NaN  8.5-9        NaN        NaN   \n",
      "4           NaN        NaN         IP          0  9-9.5        NaN        NaN   \n",
      "...         ...        ...        ...        ...    ...        ...        ...   \n",
      "1518        NaN        NaN        NaN        NaN    NaN        NaN        NaN   \n",
      "1519        NaN        NaN        NaN        NaN    NaN        NaN        NaN   \n",
      "1520        NaN        NaN        NaN        NaN    NaN        NaN        NaN   \n",
      "1521        NaN        NaN        NaN        NaN    NaN        NaN        NaN   \n",
      "1522        NaN        NaN        NaN        NaN    NaN        NaN        NaN   \n",
      "\n",
      "     Unnamed: 7 Unnamed: 8    1 Unnamed: 10  \n",
      "0           NaN        NaN    0         NaN  \n",
      "1           NaN        NaN    1         NaN  \n",
      "2           NaN        NaN    0         NaN  \n",
      "3           NaN        NaN    0         NaN  \n",
      "4           NaN        NaN    3         NaN  \n",
      "...         ...        ...  ...         ...  \n",
      "1518        NaN        NaN  NaN           x  \n",
      "1519        NaN        NaN  NaN           x  \n",
      "1520        NaN        NaN  NaN           x  \n",
      "1521        NaN        NaN  NaN           x  \n",
      "1522        NaN        NaN  NaN           x  \n",
      "\n",
      "[1523 rows x 11 columns]\n"
     ]
    },
    {
     "data": {
      "text/plain": [
       "'When Marnie Was There (Japanese: 思い出のマーニー, Hepburn: Omoide no Mānī, \"Marnie of [My] Memories\") is a 2014 Japanese animated psychological drama film co-written and directed by Hiromasa Yonebayashi, produced by Studio Ghibli and distributed by Toho. It is based on Joan G. Robinson\\'s 1967 novel of the same name.The film follows Anna Sasaki staying with her relatives in a town in Kushiro wetlands, Hokkaido. Anna comes across a nearby abandoned mansion, where she meets Marnie, a mysterious girl who asks her to promise to keep their secrets from everyone. As summer progresses, Anna spends more time with Marnie and learns the truth about her family and foster care.\\nThe film featured the final work for Studio Ghibli animator Makiko Futaki, who died in May 2016. It was also the final film that Yonebayashi directed for Ghibli before he left and joined Studio Ponoc. The film received positive reviews from critics, praising its animation, music, vocal performances, and emotional story. It was released in theatres on 19 July 2014, and on Blu-ray and DVD in Japan on 18 March 2015. It was nominated for the Academy Award for Best Animated Feature at the 88th Academy Awards, but it lost to Inside Out.'"
      ]
     },
     "execution_count": 2,
     "metadata": {},
     "output_type": "execute_result"
    }
   ],
   "source": [
    "#pip3 install pandas\n",
    "import numpy as np\n",
    "import matplotlib.pyplot as plt\n",
    "\n",
    "import wikipedia as wk\n",
    "import pandas as pd\n",
    "\n",
    "bkshelf = '/Users/matthewbain/Documents/master notebook/trackers/bookshelf.xlsx'\n",
    "df = pd.read_excel(bkshelf)\n",
    "print(df)\n",
    "\n",
    "# for i in range(len(df)):\n",
    "#     film = df[\"film\"]\n",
    "\n",
    "wk.WikipediaPage(\"When Marnie Was There\") \n",
    "wk.summary(\"When Marnie Was There\") "
   ]
  }
 ],
 "metadata": {
  "kernelspec": {
   "display_name": "Python 3.9.13 ('base')",
   "language": "python",
   "name": "python3"
  },
  "language_info": {
   "codemirror_mode": {
    "name": "ipython",
    "version": 3
   },
   "file_extension": ".py",
   "mimetype": "text/x-python",
   "name": "python",
   "nbconvert_exporter": "python",
   "pygments_lexer": "ipython3",
   "version": "3.9.15"
  },
  "orig_nbformat": 4,
  "vscode": {
   "interpreter": {
    "hash": "e9ee66f97737c23c2256428f6ea249927305c323811574712c5afa65b9868618"
   }
  }
 },
 "nbformat": 4,
 "nbformat_minor": 2
}
