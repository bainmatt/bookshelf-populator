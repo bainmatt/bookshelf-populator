{
 "cells": [
  {
   "cell_type": "code",
   "execution_count": null,
   "metadata": {},
   "outputs": [],
   "source": [
    "import numpy as np\n",
    "import wikipedia as wk\n",
    "import pandas as pd\n",
    "import matplotlib.pyplot as plt\n",
    "\n",
    "bkshelf = '/Users/matthewbain/Documents/Notebook/old/bookshelf/up next/film next.xlsx'\n",
    "\n",
    "df = pd.read_excel(bkshelf)\n",
    "\n",
    "for m in range(len(df)):\n",
    "    film = df[\"film\"][m]\n",
    "    # print(film)\n",
    "\n",
    "x = wk.WikipediaPage(title = \"When Marnie Was There\")\n",
    "\n",
    "content = x.content\n",
    "y = content.find('L')\n",
    "\n",
    "# locate strings starting with 'hi'\n",
    "content[y:200000]\n",
    "content.index('hi')\n",
    "hi_strings = content[content.index('hi'):content.index('hi')+11]"
   ]
  },
  {
   "cell_type": "code",
   "execution_count": null,
   "metadata": {},
   "outputs": [],
   "source": []
  }
 ],
 "metadata": {
  "kernelspec": {
   "display_name": "Python 3.9.13 ('base')",
   "language": "python",
   "name": "python3"
  },
  "language_info": {
   "codemirror_mode": {
    "name": "ipython",
    "version": 3
   },
   "file_extension": ".py",
   "mimetype": "text/x-python",
   "name": "python",
   "nbconvert_exporter": "python",
   "pygments_lexer": "ipython3",
   "version": "3.9.13"
  },
  "orig_nbformat": 4,
  "vscode": {
   "interpreter": {
    "hash": "e9ee66f97737c23c2256428f6ea249927305c323811574712c5afa65b9868618"
   }
  }
 },
 "nbformat": 4,
 "nbformat_minor": 2
}
